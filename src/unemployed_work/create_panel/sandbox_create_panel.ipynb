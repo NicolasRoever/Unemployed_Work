{
 "cells": [
  {
   "cell_type": "code",
   "execution_count": 1,
   "metadata": {},
   "outputs": [],
   "source": [
    "import pandas as pd\n",
    "import pyreadr\n",
    "import matplotlib.pyplot as plt"
   ]
  },
  {
   "cell_type": "code",
   "execution_count": 40,
   "metadata": {},
   "outputs": [
    {
     "ename": "ImportError",
     "evalue": "cannot import name 'FAMILY_STATUS_VARIABLE_NAMES' from 'unemployed_work.config' (/Users/nicolasroever/Desktop/Unemployed_Work/unemployed_work/src/unemployed_work/config.py)",
     "output_type": "error",
     "traceback": [
      "\u001b[0;31m---------------------------------------------------------------------------\u001b[0m",
      "\u001b[0;31mImportError\u001b[0m                               Traceback (most recent call last)",
      "Cell \u001b[0;32mIn[40], line 1\u001b[0m\n\u001b[0;32m----> 1\u001b[0m \u001b[38;5;28;01mfrom\u001b[39;00m \u001b[38;5;21;01munemployed_work\u001b[39;00m\u001b[38;5;21;01m.\u001b[39;00m\u001b[38;5;21;01mconfig\u001b[39;00m \u001b[38;5;28;01mimport\u001b[39;00m FAMILY_INTERVIEW_ID_MATCHING, FAMILY_STATUS_VARIABLE_NAMES\n",
      "\u001b[0;31mImportError\u001b[0m: cannot import name 'FAMILY_STATUS_VARIABLE_NAMES' from 'unemployed_work.config' (/Users/nicolasroever/Desktop/Unemployed_Work/unemployed_work/src/unemployed_work/config.py)"
     ]
    }
   ],
   "source": [
    "from unemployed_work.config import FAMILY_INTERVIEW_ID_MATCHING"
   ]
  },
  {
   "cell_type": "markdown",
   "metadata": {},
   "source": [
    "# Step 2: Merge wave files to panel"
   ]
  },
  {
   "cell_type": "code",
   "execution_count": null,
   "metadata": {},
   "outputs": [],
   "source": []
  },
  {
   "cell_type": "markdown",
   "metadata": {},
   "source": [
    "# Step 1: Make Individual File to Long Format"
   ]
  },
  {
   "cell_type": "code",
   "execution_count": 19,
   "metadata": {},
   "outputs": [],
   "source": [
    "individual_data = pyreadr.read_r('/Users/nicolasroever/Desktop/Unemployed_Work/unemployed_work/src/unemployed_work/data/PSID_RDS/IND2021.rda')['data']"
   ]
  },
  {
   "cell_type": "code",
   "execution_count": 27,
   "metadata": {},
   "outputs": [],
   "source": [
    "individual_data[\"Individual_ID\"] = (individual_data[\"ER30001\"] * 1000) + individual_data[\"ER30002\"].astype(int)"
   ]
  },
  {
   "cell_type": "code",
   "execution_count": 46,
   "metadata": {},
   "outputs": [],
   "source": [
    "FAMILY_STATUS_VARIABLE_NAMES = {\n",
    "1968: 'ER30003',\n",
    "1969: 'ER30022',\n",
    "1970: 'ER30045',\n",
    "1971: 'ER30069',\n",
    "1972: 'ER30093',\n",
    "1973: 'ER30119',\n",
    "1974: 'ER30140',\n",
    "1975: 'ER30162',\n",
    "1976: 'ER30190',\n",
    "1977: 'ER30219',\n",
    "1978: 'ER30248',\n",
    "1979: 'ER30285',\n",
    "1980: 'ER30315',\n",
    "1981: 'ER30345',\n",
    "1982: 'ER30375',\n",
    "1983: 'ER30401',\n",
    "1984: 'ER30431',\n",
    "1985: 'ER30465',\n",
    "1986: 'ER30500',\n",
    "1987: 'ER30537',\n",
    "1988: 'ER30572',\n",
    "1989: 'ER30608',\n",
    "1990: 'ER30644',\n",
    "1991: 'ER30691',\n",
    "1992: 'ER30735',\n",
    "1993: 'ER30808',\n",
    "1994: 'ER33103',\n",
    "1995: 'ER33203',\n",
    "1996: 'ER33303',\n",
    "1997: 'ER33403',\n",
    "1999: 'ER33503',\n",
    "2001: 'ER33603',\n",
    "2003: 'ER33703',\n",
    "2005: 'ER33803',\n",
    "2007: 'ER33903',\n",
    "2009: 'ER34003',\n",
    "2011: 'ER34103',\n",
    "2013: 'ER34203',\n",
    "2015: 'ER34303',\n",
    "2017: 'ER34503',\n",
    "2019: 'ER34703',\n",
    "2021: 'ER34903'\n",
    "}"
   ]
  },
  {
   "cell_type": "code",
   "execution_count": 44,
   "metadata": {},
   "outputs": [
    {
     "data": {
      "text/html": [
       "<div>\n",
       "<style scoped>\n",
       "    .dataframe tbody tr th:only-of-type {\n",
       "        vertical-align: middle;\n",
       "    }\n",
       "\n",
       "    .dataframe tbody tr th {\n",
       "        vertical-align: top;\n",
       "    }\n",
       "\n",
       "    .dataframe thead th {\n",
       "        text-align: right;\n",
       "    }\n",
       "</style>\n",
       "<table border=\"1\" class=\"dataframe\">\n",
       "  <thead>\n",
       "    <tr style=\"text-align: right;\">\n",
       "      <th></th>\n",
       "      <th>Individual_ID</th>\n",
       "      <th>ER30001</th>\n",
       "      <th>ER30002</th>\n",
       "      <th>ER30020</th>\n",
       "      <th>ER30043</th>\n",
       "      <th>ER30022</th>\n",
       "      <th>ER30045</th>\n",
       "    </tr>\n",
       "  </thead>\n",
       "  <tbody>\n",
       "    <tr>\n",
       "      <th>0</th>\n",
       "      <td>1</td>\n",
       "      <td>1.0</td>\n",
       "      <td>1.0</td>\n",
       "      <td>1597.0</td>\n",
       "      <td>1331.0</td>\n",
       "      <td>1.0</td>\n",
       "      <td>1</td>\n",
       "    </tr>\n",
       "    <tr>\n",
       "      <th>1</th>\n",
       "      <td>2</td>\n",
       "      <td>1.0</td>\n",
       "      <td>2.0</td>\n",
       "      <td>1597.0</td>\n",
       "      <td>1331.0</td>\n",
       "      <td>2.0</td>\n",
       "      <td>2</td>\n",
       "    </tr>\n",
       "  </tbody>\n",
       "</table>\n",
       "</div>"
      ],
      "text/plain": [
       "   Individual_ID  ER30001  ER30002  ER30020  ER30043  ER30022  ER30045\n",
       "0              1      1.0      1.0   1597.0   1331.0      1.0        1\n",
       "1              2      1.0      2.0   1597.0   1331.0      2.0        2"
      ]
     },
     "execution_count": 44,
     "metadata": {},
     "output_type": "execute_result"
    }
   ],
   "source": [
    "test_data = pd.DataFrame({\n",
    "\"Individual_ID\": [1, 2],\n",
    "\"ER30001\": [1.0, 1.0],\n",
    "\"ER30002\": [1.0, 2.0],\n",
    "\"ER30020\": [1597.0, 1597.0],\n",
    "\"ER30043\": [1331.0, 1331.0],\n",
    "\"ER30022\": [1.0, 2.0],\n",
    "\"ER30045\": [1, 2]})\n",
    "\n",
    "\n",
    "test_data"
   ]
  },
  {
   "cell_type": "code",
   "execution_count": 45,
   "metadata": {},
   "outputs": [
    {
     "data": {
      "text/html": [
       "<div>\n",
       "<style scoped>\n",
       "    .dataframe tbody tr th:only-of-type {\n",
       "        vertical-align: middle;\n",
       "    }\n",
       "\n",
       "    .dataframe tbody tr th {\n",
       "        vertical-align: top;\n",
       "    }\n",
       "\n",
       "    .dataframe thead th {\n",
       "        text-align: right;\n",
       "    }\n",
       "</style>\n",
       "<table border=\"1\" class=\"dataframe\">\n",
       "  <thead>\n",
       "    <tr style=\"text-align: right;\">\n",
       "      <th></th>\n",
       "      <th>Individual_ID</th>\n",
       "      <th>Family_Interview_Number_Type</th>\n",
       "      <th>Family_Interview_Number</th>\n",
       "      <th>Year</th>\n",
       "    </tr>\n",
       "  </thead>\n",
       "  <tbody>\n",
       "    <tr>\n",
       "      <th>0</th>\n",
       "      <td>1</td>\n",
       "      <td>ER30020</td>\n",
       "      <td>1597.0</td>\n",
       "      <td>1969</td>\n",
       "    </tr>\n",
       "    <tr>\n",
       "      <th>1</th>\n",
       "      <td>2</td>\n",
       "      <td>ER30020</td>\n",
       "      <td>1597.0</td>\n",
       "      <td>1969</td>\n",
       "    </tr>\n",
       "    <tr>\n",
       "      <th>2</th>\n",
       "      <td>1</td>\n",
       "      <td>ER30043</td>\n",
       "      <td>1331.0</td>\n",
       "      <td>1970</td>\n",
       "    </tr>\n",
       "    <tr>\n",
       "      <th>3</th>\n",
       "      <td>2</td>\n",
       "      <td>ER30043</td>\n",
       "      <td>1331.0</td>\n",
       "      <td>1970</td>\n",
       "    </tr>\n",
       "  </tbody>\n",
       "</table>\n",
       "</div>"
      ],
      "text/plain": [
       "   Individual_ID Family_Interview_Number_Type  Family_Interview_Number  Year\n",
       "0              1                      ER30020                   1597.0  1969\n",
       "1              2                      ER30020                   1597.0  1969\n",
       "2              1                      ER30043                   1331.0  1970\n",
       "3              2                      ER30043                   1331.0  1970"
      ]
     },
     "execution_count": 45,
     "metadata": {},
     "output_type": "execute_result"
    }
   ],
   "source": [
    "family_interview_numbers_dataset = test_data[[\"Individual_ID\", \"ER30020\", \"ER30043\"]]\n",
    "\n",
    "family_file_interiew_number_long = family_interview_numbers_dataset.melt(id_vars=[\"Individual_ID\"], value_vars=[\"ER30020\", \"ER30043\"], var_name=\"Family_Interview_Number_Type\", value_name=\"Family_Interview_Number\")\n",
    "\n",
    "family_file_interiew_number_long[\"Year\"] = family_file_interiew_number_long[\"Family_Interview_Number_Type\"].map(dict(zip(FAMILY_INTERVIEW_ID_MATCHING[\"Individual_File\"], FAMILY_INTERVIEW_ID_MATCHING[\"Year\"])))\n",
    "\n",
    "family_file_interiew_number_long"
   ]
  },
  {
   "cell_type": "code",
   "execution_count": 55,
   "metadata": {},
   "outputs": [
    {
     "data": {
      "text/plain": [
       "dict_values(['ER30003', 'ER30022', 'ER30045', 'ER30069', 'ER30093', 'ER30119', 'ER30140', 'ER30162', 'ER30190', 'ER30219', 'ER30248', 'ER30285', 'ER30315', 'ER30345', 'ER30375', 'ER30401', 'ER30431', 'ER30465', 'ER30500', 'ER30537', 'ER30572', 'ER30608', 'ER30644', 'ER30691', 'ER30735', 'ER30808', 'ER33103', 'ER33203', 'ER33303', 'ER33403', 'ER33503', 'ER33603', 'ER33703', 'ER33803', 'ER33903', 'ER34003', 'ER34103', 'ER34203', 'ER34303', 'ER34503', 'ER34703', 'ER34903'])"
      ]
     },
     "execution_count": 55,
     "metadata": {},
     "output_type": "execute_result"
    }
   ],
   "source": [
    "FAMILY_STATUS_VARIABLE_NAMES.values()"
   ]
  },
  {
   "cell_type": "code",
   "execution_count": 52,
   "metadata": {},
   "outputs": [
    {
     "data": {
      "text/html": [
       "<div>\n",
       "<style scoped>\n",
       "    .dataframe tbody tr th:only-of-type {\n",
       "        vertical-align: middle;\n",
       "    }\n",
       "\n",
       "    .dataframe tbody tr th {\n",
       "        vertical-align: top;\n",
       "    }\n",
       "\n",
       "    .dataframe thead th {\n",
       "        text-align: right;\n",
       "    }\n",
       "</style>\n",
       "<table border=\"1\" class=\"dataframe\">\n",
       "  <thead>\n",
       "    <tr style=\"text-align: right;\">\n",
       "      <th></th>\n",
       "      <th>Individual_ID</th>\n",
       "      <th>Relation_To_Head_Variable_Name</th>\n",
       "      <th>Relation_To_Head_Value</th>\n",
       "      <th>Year</th>\n",
       "    </tr>\n",
       "  </thead>\n",
       "  <tbody>\n",
       "    <tr>\n",
       "      <th>0</th>\n",
       "      <td>1</td>\n",
       "      <td>ER30022</td>\n",
       "      <td>1.0</td>\n",
       "      <td>1969</td>\n",
       "    </tr>\n",
       "    <tr>\n",
       "      <th>1</th>\n",
       "      <td>2</td>\n",
       "      <td>ER30022</td>\n",
       "      <td>2.0</td>\n",
       "      <td>1969</td>\n",
       "    </tr>\n",
       "    <tr>\n",
       "      <th>2</th>\n",
       "      <td>1</td>\n",
       "      <td>ER30045</td>\n",
       "      <td>1.0</td>\n",
       "      <td>1970</td>\n",
       "    </tr>\n",
       "    <tr>\n",
       "      <th>3</th>\n",
       "      <td>2</td>\n",
       "      <td>ER30045</td>\n",
       "      <td>2.0</td>\n",
       "      <td>1970</td>\n",
       "    </tr>\n",
       "  </tbody>\n",
       "</table>\n",
       "</div>"
      ],
      "text/plain": [
       "   Individual_ID Relation_To_Head_Variable_Name  Relation_To_Head_Value  Year\n",
       "0              1                        ER30022                     1.0  1969\n",
       "1              2                        ER30022                     2.0  1969\n",
       "2              1                        ER30045                     1.0  1970\n",
       "3              2                        ER30045                     2.0  1970"
      ]
     },
     "execution_count": 52,
     "metadata": {},
     "output_type": "execute_result"
    }
   ],
   "source": [
    "relation_to_head_dataset = test_data[[\"Individual_ID\", \"ER30022\", \"ER30045\"]]\n",
    "\n",
    "relation_to_head_long = relation_to_head_dataset.melt(id_vars=[\"Individual_ID\"], value_vars=[\"ER30022\", \"ER30045\"], var_name=\"Relation_To_Head_Variable_Name\", value_name=\"Relation_To_Head_Value\")\n",
    "\n",
    "relation_to_head_long[\"Year\"] = relation_to_head_long[\"Relation_To_Head_Variable_Name\"].map({value: key for key, value in FAMILY_STATUS_VARIABLE_NAMES.items()})\n",
    "\n",
    "relation_to_head_long"
   ]
  },
  {
   "cell_type": "code",
   "execution_count": 53,
   "metadata": {},
   "outputs": [],
   "source": [
    "final_file = pd.merge(family_file_interiew_number_long, relation_to_head_long, on=[\"Individual_ID\", \"Year\"], how=\"left\", validate=\"one_to_one\")"
   ]
  },
  {
   "cell_type": "code",
   "execution_count": 54,
   "metadata": {},
   "outputs": [
    {
     "data": {
      "text/html": [
       "<div>\n",
       "<style scoped>\n",
       "    .dataframe tbody tr th:only-of-type {\n",
       "        vertical-align: middle;\n",
       "    }\n",
       "\n",
       "    .dataframe tbody tr th {\n",
       "        vertical-align: top;\n",
       "    }\n",
       "\n",
       "    .dataframe thead th {\n",
       "        text-align: right;\n",
       "    }\n",
       "</style>\n",
       "<table border=\"1\" class=\"dataframe\">\n",
       "  <thead>\n",
       "    <tr style=\"text-align: right;\">\n",
       "      <th></th>\n",
       "      <th>Individual_ID</th>\n",
       "      <th>Family_Interview_Number_Type</th>\n",
       "      <th>Family_Interview_Number</th>\n",
       "      <th>Year</th>\n",
       "      <th>Relation_To_Head_Variable_Name</th>\n",
       "      <th>Relation_To_Head_Value</th>\n",
       "    </tr>\n",
       "  </thead>\n",
       "  <tbody>\n",
       "    <tr>\n",
       "      <th>0</th>\n",
       "      <td>1</td>\n",
       "      <td>ER30020</td>\n",
       "      <td>1597.0</td>\n",
       "      <td>1969</td>\n",
       "      <td>ER30022</td>\n",
       "      <td>1.0</td>\n",
       "    </tr>\n",
       "    <tr>\n",
       "      <th>1</th>\n",
       "      <td>2</td>\n",
       "      <td>ER30020</td>\n",
       "      <td>1597.0</td>\n",
       "      <td>1969</td>\n",
       "      <td>ER30022</td>\n",
       "      <td>2.0</td>\n",
       "    </tr>\n",
       "    <tr>\n",
       "      <th>2</th>\n",
       "      <td>1</td>\n",
       "      <td>ER30043</td>\n",
       "      <td>1331.0</td>\n",
       "      <td>1970</td>\n",
       "      <td>ER30045</td>\n",
       "      <td>1.0</td>\n",
       "    </tr>\n",
       "    <tr>\n",
       "      <th>3</th>\n",
       "      <td>2</td>\n",
       "      <td>ER30043</td>\n",
       "      <td>1331.0</td>\n",
       "      <td>1970</td>\n",
       "      <td>ER30045</td>\n",
       "      <td>2.0</td>\n",
       "    </tr>\n",
       "  </tbody>\n",
       "</table>\n",
       "</div>"
      ],
      "text/plain": [
       "   Individual_ID Family_Interview_Number_Type  Family_Interview_Number  Year  \\\n",
       "0              1                      ER30020                   1597.0  1969   \n",
       "1              2                      ER30020                   1597.0  1969   \n",
       "2              1                      ER30043                   1331.0  1970   \n",
       "3              2                      ER30043                   1331.0  1970   \n",
       "\n",
       "  Relation_To_Head_Variable_Name  Relation_To_Head_Value  \n",
       "0                        ER30022                     1.0  \n",
       "1                        ER30022                     2.0  \n",
       "2                        ER30045                     1.0  \n",
       "3                        ER30045                     2.0  "
      ]
     },
     "execution_count": 54,
     "metadata": {},
     "output_type": "execute_result"
    }
   ],
   "source": [
    "final_file"
   ]
  },
  {
   "cell_type": "code",
   "execution_count": 18,
   "metadata": {},
   "outputs": [],
   "source": [
    "FAMILY_STATUS_MAPPING = { 10: \"Head\", \n",
    " 20 : \"Wife\",\n",
    " 22 : \"Wife\" \n",
    "}\n",
    "\n",
    "\n",
    "#10 is head, 20 is legal wife, 22 is female cohabitor\n",
    "FAMILY_STATUS_VARIABLE_NAMES = {\n",
    "    1968: 'ER30003',\n",
    "    1969: 'ER30022',\n",
    "    1970: 'ER30045',\n",
    "    1971: 'ER30069',\n",
    "    1972: 'ER30093',\n",
    "    1973: 'ER30119',\n",
    "    1974: 'ER30140',\n",
    "    1975: 'ER30162',\n",
    "    1976: 'ER30190',\n",
    "    1977: 'ER30219',\n",
    "    1978: 'ER30248',\n",
    "    1979: 'ER30285',\n",
    "    1980: 'ER30315',\n",
    "    1981: 'ER30345',\n",
    "    1982: 'ER30375',\n",
    "    1983: 'ER30401',\n",
    "    1984: 'ER30431',\n",
    "    1985: 'ER30465',\n",
    "    1986: 'ER30500',\n",
    "    1987: 'ER30537',\n",
    "    1988: 'ER30572',\n",
    "    1989: 'ER30608',\n",
    "    1990: 'ER30644',\n",
    "    1991: 'ER30691',\n",
    "    1992: 'ER30735',\n",
    "    1993: 'ER30808',\n",
    "    1994: 'ER33103',\n",
    "    1995: 'ER33203',\n",
    "    1996: 'ER33303',\n",
    "    1997: 'ER33403',\n",
    "    1999: 'ER33503',\n",
    "    2001: 'ER33603',\n",
    "    2003: 'ER33703',\n",
    "    2005: 'ER33803',\n",
    "    2007: 'ER33903',\n",
    "    2009: 'ER34003',\n",
    "    2011: 'ER34103',\n",
    "    2013: 'ER34203',\n",
    "    2015: 'ER34303',\n",
    "    2017: 'ER34503',\n",
    "    2019: 'ER34703',\n",
    "    2021: 'ER34903'\n",
    "}\n",
    "\n",
    "\n",
    "#BE CAREFUL! THE Question is about the PREVIOUS YEAR\n",
    "HEAD_LABOR_INCOME_VARIABLE_NAMES =  {\n",
    "    1968: 'V74', 1969: 'V514', 1970: 'V1196', 1971: 'V1897', 1972: 'V2498', 1973: 'V3051',\n",
    "    1974: 'V3463', 1975: 'V3863', 1976: 'V5031', 1977: 'V5627', 1978: 'V6174', 1979: 'V6767',\n",
    "    1980: 'V7413', 1981: 'V8066', 1982: 'V8690', 1983: 'V9376', 1984: 'V11023', 1985: 'V12372',\n",
    "    1986: 'V13624', 1987: 'V14671', 1988: 'V16145', 1989: 'V17534', 1990: 'V18878', 1991: 'V20178',\n",
    "    1992: 'V21484', 1993: 'V23323', 1994: 'ER4140', 1995: 'ER6980', 1996: 'ER9231', 1997: 'ER12080',\n",
    "    1999: 'ER16463', 2001: 'ER20443', 2003: 'ER24116', 2005: 'ER27931', 2007: 'ER40921', 2009: 'ER46829',\n",
    "    2011: 'ER52237', 2013: 'ER58038', 2015: 'ER65216', 2017: 'ER71293', 2019: 'ER77315', 2021: 'ER81642'\n",
    "}\n",
    "\n",
    "\n",
    "\n",
    "\n",
    "#BE CAREFUL! THE Question is about the PREVIOUS YEAR\n",
    "SPOUSE_LABOR_INCOME_VARIABLE_NAMES = {\n",
    "    1968: 'V75',\n",
    "    1969: 'V516',\n",
    "    1970: 'V1198',\n",
    "    1971: 'V1899',\n",
    "    1972: 'V2500',\n",
    "    1973: 'V3053',\n",
    "    1974: 'V3465',\n",
    "    1975: 'V3865',\n",
    "    1976: 'V4379',\n",
    "    1977: 'V5289',\n",
    "    1978: 'V5788',\n",
    "    1979: 'V6398',\n",
    "    1980: 'V6988',\n",
    "    1981: 'V7580',\n",
    "    1982: 'V8273',\n",
    "    1983: 'V8881',\n",
    "    1984: 'V10263',\n",
    "    1985: 'V11404',\n",
    "    1986: 'V12803',\n",
    "    1987: 'V13905',\n",
    "    1988: 'V14920',\n",
    "    1989: 'V16420',\n",
    "    1990: 'V17836',\n",
    "    1991: 'V19136',\n",
    "    1992: 'V20436',\n",
    "    1993: 'V23324',\n",
    "    1993: 'V21807',\n",
    "    1994: 'ER4144',\n",
    "    1995: 'ER6984',\n",
    "    1996: 'ER9235',\n",
    "    1997: 'ER12082',\n",
    "    1999: 'ER16465',\n",
    "    2001: 'ER20447',\n",
    "    2003: 'ER24135',\n",
    "    2005: 'ER27943',\n",
    "    2007: 'ER40933',\n",
    "    2009: 'ER46841',\n",
    "    2011: 'ER52249',\n",
    "    2013: 'ER58050',\n",
    "    2015: 'ER65244',\n",
    "    2017: 'ER71321',\n",
    "    2019: 'ER77343',\n",
    "    2021: 'ER81670'\n",
    "}"
   ]
  },
  {
   "cell_type": "code",
   "execution_count": 3,
   "metadata": {},
   "outputs": [],
   "source": [
    "family_wave_data = pyreadr.read_r('/Users/nicolasroever/Desktop/Unemployed_Work/unemployed_work/src/unemployed_work/data/PSID_RDS/FAM1968.rda')['data']\n"
   ]
  },
  {
   "cell_type": "code",
   "execution_count": 6,
   "metadata": {},
   "outputs": [],
   "source": [
    "year = 1968\n",
    "individual_file_interview_number = FAMILY_INTERVIEW_ID_MATCHING.loc[FAMILY_INTERVIEW_ID_MATCHING['Year'] == year, 'Individual_File'].values[0]\n",
    "\n",
    "family_file_interiew_number = FAMILY_INTERVIEW_ID_MATCHING.loc[FAMILY_INTERVIEW_ID_MATCHING['Year'] == year, 'Family_File'].values[0]"
   ]
  },
  {
   "cell_type": "code",
   "execution_count": 8,
   "metadata": {},
   "outputs": [],
   "source": [
    "individual_data_family_wave = pd.merge(individual_data, family_wave_data, left_on=individual_file_interview_number, right_on=family_file_interiew_number, how='left', validate='m:1')\n",
    "                                       "
   ]
  },
  {
   "cell_type": "code",
   "execution_count": 17,
   "metadata": {},
   "outputs": [],
   "source": [
    "family_status_variable_name = FAMILY_STATUS_VARIABLE_NAMES[year]\n",
    "individual_data_family_wave[f\"Family_Status_{year}\"] = individual_data_family_wave[family_status_variable_name].map(FAMILY_STATUS_MAPPING)"
   ]
  },
  {
   "cell_type": "code",
   "execution_count": null,
   "metadata": {},
   "outputs": [],
   "source": [
    "head_income_variable_id = HEAD_LABOR_INCOME_VARIABLE_NAMES[year]\n",
    "spouse_income_variable_id = SPOUSE_LABOR_INCOME_VARIABLE_NAMES[year]"
   ]
  },
  {
   "cell_type": "code",
   "execution_count": null,
   "metadata": {},
   "outputs": [],
   "source": []
  },
  {
   "cell_type": "code",
   "execution_count": null,
   "metadata": {},
   "outputs": [],
   "source": [
    "individual_data_family_wave['Head_Income'] = individual_data_family_wave[head_income_variable_id]"
   ]
  }
 ],
 "metadata": {
  "kernelspec": {
   "display_name": "unemployed_work",
   "language": "python",
   "name": "python3"
  },
  "language_info": {
   "codemirror_mode": {
    "name": "ipython",
    "version": 3
   },
   "file_extension": ".py",
   "mimetype": "text/x-python",
   "name": "python",
   "nbconvert_exporter": "python",
   "pygments_lexer": "ipython3",
   "version": "3.11.8"
  }
 },
 "nbformat": 4,
 "nbformat_minor": 2
}
